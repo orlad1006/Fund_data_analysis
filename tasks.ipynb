{
 "cells": [
  {
   "cell_type": "markdown",
   "metadata": {},
   "source": [
    "# Fundamentaals of Data Analysis Tasks #\n",
    "\n",
    "**Author: Orla Dowling **\n",
    "\n",
    "***"
   ]
  },
  {
   "cell_type": "markdown",
   "metadata": {},
   "source": [
    "##Task 1 ##\n",
    "\n",
    "The Collatz conjecture1 is a famous unsolved problem in mathematics. The problem is to prove that if you start with any positive\n",
    "integer x and repeatedly apply the function $f(x)$ below, you always get stuck in the repeating sequence 1, 4, 2, 1, 4, 2, . . .\n",
    "\n",
    "[$f(x)={x/2 if even x+1 otherwise}$]\n"
   ]
  },
  {
   "cell_type": "code",
   "execution_count": 4,
   "metadata": {},
   "outputs": [],
   "source": [
    "def f(x):\n",
    "#if x is even divide by 2  using integer divison \n",
    "    if x % 2 == 0:\n",
    "        return x // 2\n",
    "# otherwise multiply by 3 and add 1\n",
    "    else:\n",
    "        return (3 * x) + 1\n",
    "    "
   ]
  },
  {
   "cell_type": "code",
   "execution_count": 5,
   "metadata": {},
   "outputs": [],
   "source": [
    "def collatz (x):\n",
    "    #while x does not equal to 1 (integer)\n",
    "\n",
    "    while x != 1:\n",
    "        print(x, end=', ')\n",
    "        x = f(x)\n",
    "        print(x) \n",
    "\n"
   ]
  },
  {
   "cell_type": "code",
   "execution_count": 6,
   "metadata": {},
   "outputs": [
    {
     "name": "stdout",
     "output_type": "stream",
     "text": [
      "100, 50\n",
      "50, 25\n",
      "25, 76\n",
      "76, 38\n",
      "38, 19\n",
      "19, 58\n",
      "58, 29\n",
      "29, 88\n",
      "88, 44\n",
      "44, 22\n",
      "22, 11\n",
      "11, 34\n",
      "34, 17\n",
      "17, 52\n",
      "52, 26\n",
      "26, 13\n",
      "13, 40\n",
      "40, 20\n",
      "20, 10\n",
      "10, 5\n",
      "5, 16\n",
      "16, 8\n",
      "8, 4\n",
      "4, 2\n",
      "2, 1\n"
     ]
    }
   ],
   "source": [
    "collatz(100)\n"
   ]
  },
  {
   "cell_type": "code",
   "execution_count": null,
   "metadata": {},
   "outputs": [],
   "source": []
  },
  {
   "cell_type": "code",
   "execution_count": null,
   "metadata": {},
   "outputs": [],
   "source": []
  },
  {
   "cell_type": "code",
   "execution_count": null,
   "metadata": {},
   "outputs": [],
   "source": []
  },
  {
   "cell_type": "code",
   "execution_count": null,
   "metadata": {},
   "outputs": [],
   "source": []
  },
  {
   "cell_type": "markdown",
   "metadata": {},
   "source": [
    "# The End #\n",
    "\n",
    "***"
   ]
  }
 ],
 "metadata": {
  "kernelspec": {
   "display_name": "base",
   "language": "python",
   "name": "python3"
  },
  "language_info": {
   "codemirror_mode": {
    "name": "ipython",
    "version": 3
   },
   "file_extension": ".py",
   "mimetype": "text/x-python",
   "name": "python",
   "nbconvert_exporter": "python",
   "pygments_lexer": "ipython3",
   "version": "3.11.5"
  }
 },
 "nbformat": 4,
 "nbformat_minor": 2
}
